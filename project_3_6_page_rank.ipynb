{
 "cells": [
  {
   "cell_type": "markdown",
   "id": "62047ee7ffda153c",
   "metadata": {},
   "source": [
    "# Northwind Trades ® - Enhancing Product Recommendations and Warehouse Efficiency through Data-Driven Analytics\n",
    "## Part 5: Page Rank Algorithm"
   ]
  },
  {
   "cell_type": "code",
   "execution_count": null,
   "id": "c0f1644b",
   "metadata": {},
   "outputs": [],
   "source": [
    "import psycopg2\n",
    "import pandas as pd\n",
    "\n",
    "# Connect to PostgreSQL\n",
    "conn = psycopg2.connect(\n",
    "    user = \"postgres\",\n",
    "    password = \"ucb\",\n",
    "    host = \"postgres\",\n",
    "    port = \"5432\",\n",
    "    database = \"postgres\"\n",
    ")\n",
    "\n",
    "cur = conn.cursor()\n"
   ]
  },
  {
   "cell_type": "markdown",
   "id": "9e94b666",
   "metadata": {},
   "source": [
    "### Count co-purchases between products"
   ]
  },
  {
   "cell_type": "code",
   "execution_count": 7,
   "id": "57a3a3dd",
   "metadata": {},
   "outputs": [
    {
     "name": "stdout",
     "output_type": "stream",
     "text": [
      "   product_a  product_b  co_purchase_count\n",
      "0         18         36                  3\n",
      "1         55         76                  2\n",
      "2         16         62                  6\n",
      "3          1         28                  1\n",
      "4          4         64                  1\n"
     ]
    }
   ],
   "source": [
    "co_purchase_query = \"\"\"\n",
    "SELECT p1.product_id AS product_a, \n",
    "       p2.product_id AS product_b, \n",
    "       COUNT(*) AS co_purchase_count\n",
    "FROM order_details od1\n",
    "JOIN order_details od2 \n",
    "  ON od1.order_id = od2.order_id AND od1.product_id <> od2.product_id\n",
    "JOIN products p1 ON od1.product_id = p1.product_id\n",
    "JOIN products p2 ON od2.product_id = p2.product_id\n",
    "GROUP BY p1.product_id, p2.product_id\n",
    "\"\"\"\n",
    "\n",
    "co_purchase_df = pd.read_sql(co_purchase_query, conn)\n",
    "\n",
    "print(co_purchase_df.head())\n"
   ]
  },
  {
   "cell_type": "markdown",
   "id": "61e01015",
   "metadata": {},
   "source": [
    "### Connect to Neo4j and create product graph"
   ]
  },
  {
   "cell_type": "code",
   "execution_count": 8,
   "id": "945c51ad",
   "metadata": {},
   "outputs": [],
   "source": [
    "from neo4j import GraphDatabase\n",
    "\n",
    "uri = \"neo4j://neo4j:7687\"\n",
    "driver = GraphDatabase.driver(uri, auth=(\"neo4j\", \"ucb_mids_w205\"))\n",
    "\n",
    "def create_product_graph(tx, product_a, product_b, count):\n",
    "    tx.run(\"\"\"\n",
    "    MERGE (a:Product {id: $product_a})\n",
    "    MERGE (b:Product {id: $product_b})\n",
    "    MERGE (a)-[r:CO_PURCHASED {count: $count}]->(b)\n",
    "    \"\"\", product_a=product_a, product_b=product_b, count=count)"
   ]
  },
  {
   "cell_type": "code",
   "execution_count": 9,
   "id": "6bc70c56",
   "metadata": {},
   "outputs": [],
   "source": [
    "with driver.session() as session:\n",
    "    session.run(\"MATCH (n) DETACH DELETE n\")\n",
    "    \n",
    "    for _, row in co_purchase_df.iterrows():\n",
    "        session.execute_write(\n",
    "            create_product_graph, \n",
    "            str(row['product_a']), \n",
    "            str(row['product_b']), \n",
    "            int(row['co_purchase_count'])\n",
    "        )"
   ]
  },
  {
   "cell_type": "code",
   "execution_count": 10,
   "id": "1bf00cf8",
   "metadata": {},
   "outputs": [],
   "source": [
    "with driver.session() as session:\n",
    "    session.run(\"\"\"\n",
    "    CALL gds.graph.project(\n",
    "      'productGraph',\n",
    "      'Product',\n",
    "      {\n",
    "        CO_PURCHASED: {\n",
    "          properties: 'count'\n",
    "        }\n",
    "      }\n",
    "    )\n",
    "    \"\"\")\n"
   ]
  },
  {
   "cell_type": "markdown",
   "id": "a9eef36f",
   "metadata": {},
   "source": [
    "### Runs PageRank and queries top 20 most influential products"
   ]
  },
  {
   "cell_type": "code",
   "execution_count": 11,
   "id": "512b175d",
   "metadata": {},
   "outputs": [
    {
     "name": "stdout",
     "output_type": "stream",
     "text": [
      "PageRank Results (Most Influential Products):\n",
      "   productId  influence\n",
      "0         60   1.429131\n",
      "1         41   1.384868\n",
      "2          2   1.376856\n",
      "3         16   1.349988\n",
      "4         56   1.317747\n",
      "5         13   1.309049\n",
      "6         64   1.305328\n",
      "7         77   1.302974\n",
      "8         24   1.284609\n",
      "9         75   1.269225\n",
      "10        31   1.244224\n",
      "11        10   1.200998\n",
      "12        39   1.191036\n",
      "13        59   1.184514\n",
      "14        40   1.178762\n",
      "15        19   1.175179\n",
      "16        46   1.171751\n",
      "17        55   1.165826\n",
      "18        62   1.160397\n",
      "19        72   1.135368\n"
     ]
    }
   ],
   "source": [
    "with driver.session() as session:\n",
    "    session.run(\"\"\"\n",
    "    CALL gds.pageRank.write('productGraph', {\n",
    "      maxIterations: 20,\n",
    "      dampingFactor: 0.85,\n",
    "      writeProperty: 'pagerank'\n",
    "    })\n",
    "    \"\"\")\n",
    "    \n",
    "    result = session.run(\"\"\"\n",
    "    MATCH (p:Product)\n",
    "    RETURN p.id AS productId, p.pagerank AS influence\n",
    "    ORDER BY influence DESC\n",
    "    LIMIT 20\n",
    "    \"\"\")\n",
    "    \n",
    "    pagerank_results = pd.DataFrame([dict(record) for record in result])\n",
    "    print(\"PageRank Results (Most Influential Products):\")\n",
    "    print(pagerank_results)\n",
    "    \n",
    "driver.close()\n",
    "\n",
    "conn.close()\n"
   ]
  }
 ],
 "metadata": {
  "kernelspec": {
   "display_name": "Python 3 (ipykernel)",
   "language": "python",
   "name": "python3"
  },
  "language_info": {
   "codemirror_mode": {
    "name": "ipython",
    "version": 3
   },
   "file_extension": ".py",
   "mimetype": "text/x-python",
   "name": "python",
   "nbconvert_exporter": "python",
   "pygments_lexer": "ipython3",
   "version": "3.9.7"
  }
 },
 "nbformat": 4,
 "nbformat_minor": 5
}
